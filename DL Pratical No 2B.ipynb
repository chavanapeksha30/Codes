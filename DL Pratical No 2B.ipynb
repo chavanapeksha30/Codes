{
 "cells": [
  {
   "cell_type": "code",
   "execution_count": 1,
   "metadata": {},
   "outputs": [],
   "source": [
    "import numpy as np\n",
    "import pandas as pd\n",
    "from sklearn.model_selection import train_test_split\n",
    "from sklearn.preprocessing import LabelEncoder\n",
    "from tensorflow.keras.models import Sequential\n",
    "from tensorflow.keras.layers import Dense\n",
    "from tensorflow.keras.optimizers import Adam"
   ]
  },
  {
   "cell_type": "code",
   "execution_count": 2,
   "metadata": {},
   "outputs": [],
   "source": [
    "# Load the dataset\n",
    "data = pd.read_csv(\"C:/Users/Administrator/Documents/BE/DL Pratical/letter-recognition (1).csv\")\n"
   ]
  },
  {
   "cell_type": "code",
   "execution_count": 3,
   "metadata": {},
   "outputs": [
    {
     "name": "stdout",
     "output_type": "stream",
     "text": [
      "Column Names: Index(['T', '2', '8', '3', '5', '1', '8.1', '13', '0', '6', '6.1', '10', '8.2',\n",
      "       '0.1', '8.3', '0.2', '8.4'],\n",
      "      dtype='object')\n"
     ]
    }
   ],
   "source": [
    "# Check the column names\n",
    "print(\"Column Names:\", data.columns)"
   ]
  },
  {
   "cell_type": "code",
   "execution_count": 4,
   "metadata": {},
   "outputs": [],
   "source": [
    "# Preprocess the data\n",
    "X = data.drop(columns=['T'])  # Features\n",
    "y = data['T']  # Target"
   ]
  },
  {
   "cell_type": "code",
   "execution_count": 5,
   "metadata": {},
   "outputs": [],
   "source": [
    "# Encode target labels\n",
    "label_encoder = LabelEncoder()\n",
    "y_encoded = label_encoder.fit_transform(y)"
   ]
  },
  {
   "cell_type": "code",
   "execution_count": 6,
   "metadata": {},
   "outputs": [],
   "source": [
    "# Split the data into training and test sets\n",
    "X_train, X_test, y_train, y_test = train_test_split(X, y_encoded, test_size=0.2, random_state=42)"
   ]
  },
  {
   "cell_type": "code",
   "execution_count": 7,
   "metadata": {},
   "outputs": [],
   "source": [
    "# Build the model\n",
    "model = Sequential([\n",
    "    Dense(128, activation='relu', input_shape=(X_train.shape[1],)),\n",
    "    Dense(64, activation='relu'),\n",
    "    Dense(len(label_encoder.classes_), activation='softmax')  # Output layer with number of classes\n",
    "])"
   ]
  },
  {
   "cell_type": "code",
   "execution_count": 8,
   "metadata": {},
   "outputs": [],
   "source": [
    "# Compile the model\n",
    "model.compile(optimizer='adam', loss='sparse_categorical_crossentropy', metrics=['accuracy'])"
   ]
  },
  {
   "cell_type": "code",
   "execution_count": 9,
   "metadata": {},
   "outputs": [
    {
     "name": "stdout",
     "output_type": "stream",
     "text": [
      "Epoch 1/20\n",
      "400/400 [==============================] - 2s 3ms/step - loss: 1.8200 - accuracy: 0.4928 - val_loss: 1.2291 - val_accuracy: 0.6600\n",
      "Epoch 2/20\n",
      "400/400 [==============================] - 1s 2ms/step - loss: 1.0225 - accuracy: 0.7141 - val_loss: 0.9565 - val_accuracy: 0.7212\n",
      "Epoch 3/20\n",
      "400/400 [==============================] - 1s 2ms/step - loss: 0.8306 - accuracy: 0.7667 - val_loss: 0.8083 - val_accuracy: 0.7750\n",
      "Epoch 4/20\n",
      "400/400 [==============================] - 1s 2ms/step - loss: 0.7121 - accuracy: 0.7955 - val_loss: 0.7114 - val_accuracy: 0.7872\n",
      "Epoch 5/20\n",
      "400/400 [==============================] - 1s 2ms/step - loss: 0.6299 - accuracy: 0.8201 - val_loss: 0.6186 - val_accuracy: 0.8216\n",
      "Epoch 6/20\n",
      "400/400 [==============================] - 1s 2ms/step - loss: 0.5717 - accuracy: 0.8338 - val_loss: 0.5720 - val_accuracy: 0.8316\n",
      "Epoch 7/20\n",
      "400/400 [==============================] - 1s 2ms/step - loss: 0.5159 - accuracy: 0.8494 - val_loss: 0.5203 - val_accuracy: 0.8444\n",
      "Epoch 8/20\n",
      "400/400 [==============================] - 1s 2ms/step - loss: 0.4707 - accuracy: 0.8612 - val_loss: 0.5062 - val_accuracy: 0.8478\n",
      "Epoch 9/20\n",
      "400/400 [==============================] - 1s 2ms/step - loss: 0.4352 - accuracy: 0.8653 - val_loss: 0.4519 - val_accuracy: 0.8606\n",
      "Epoch 10/20\n",
      "400/400 [==============================] - 1s 2ms/step - loss: 0.4068 - accuracy: 0.8759 - val_loss: 0.4029 - val_accuracy: 0.8838\n",
      "Epoch 11/20\n",
      "400/400 [==============================] - 1s 2ms/step - loss: 0.3727 - accuracy: 0.8834 - val_loss: 0.3953 - val_accuracy: 0.8731\n",
      "Epoch 12/20\n",
      "400/400 [==============================] - 1s 2ms/step - loss: 0.3548 - accuracy: 0.8906 - val_loss: 0.4104 - val_accuracy: 0.8691\n",
      "Epoch 13/20\n",
      "400/400 [==============================] - 1s 2ms/step - loss: 0.3308 - accuracy: 0.8981 - val_loss: 0.3973 - val_accuracy: 0.8672\n",
      "Epoch 14/20\n",
      "400/400 [==============================] - 1s 2ms/step - loss: 0.3157 - accuracy: 0.9037 - val_loss: 0.3501 - val_accuracy: 0.8913\n",
      "Epoch 15/20\n",
      "400/400 [==============================] - 1s 2ms/step - loss: 0.2959 - accuracy: 0.9074 - val_loss: 0.3168 - val_accuracy: 0.9022\n",
      "Epoch 16/20\n",
      "400/400 [==============================] - 1s 2ms/step - loss: 0.2859 - accuracy: 0.9089 - val_loss: 0.3436 - val_accuracy: 0.8888\n",
      "Epoch 17/20\n",
      "400/400 [==============================] - 1s 2ms/step - loss: 0.2701 - accuracy: 0.9155 - val_loss: 0.3066 - val_accuracy: 0.9056\n",
      "Epoch 18/20\n",
      "400/400 [==============================] - 1s 2ms/step - loss: 0.2602 - accuracy: 0.9176 - val_loss: 0.3080 - val_accuracy: 0.9062\n",
      "Epoch 19/20\n",
      "400/400 [==============================] - 1s 2ms/step - loss: 0.2462 - accuracy: 0.9209 - val_loss: 0.2807 - val_accuracy: 0.9169\n",
      "Epoch 20/20\n",
      "400/400 [==============================] - 1s 2ms/step - loss: 0.2387 - accuracy: 0.9250 - val_loss: 0.2805 - val_accuracy: 0.9075\n"
     ]
    },
    {
     "data": {
      "text/plain": [
       "<keras.callbacks.History at 0x1eff4313a60>"
      ]
     },
     "execution_count": 9,
     "metadata": {},
     "output_type": "execute_result"
    }
   ],
   "source": [
    "# Train the model\n",
    "model.fit(X_train, y_train, epochs=20, batch_size=32, validation_split=0.2)"
   ]
  },
  {
   "cell_type": "code",
   "execution_count": 10,
   "metadata": {},
   "outputs": [
    {
     "name": "stdout",
     "output_type": "stream",
     "text": [
      "125/125 [==============================] - 0s 1ms/step - loss: 0.2988 - accuracy: 0.9050\n",
      "Test Accuracy: 0.9049999713897705\n"
     ]
    }
   ],
   "source": [
    "# Evaluate the model\n",
    "test_loss, test_accuracy = model.evaluate(X_test, y_test)\n",
    "print(\"Test Accuracy:\", test_accuracy)\n"
   ]
  },
  {
   "cell_type": "code",
   "execution_count": 11,
   "metadata": {},
   "outputs": [
    {
     "name": "stdout",
     "output_type": "stream",
     "text": [
      "125/125 [==============================] - 0s 1ms/step\n"
     ]
    }
   ],
   "source": [
    "# Make predictions\n",
    "predictions = model.predict(X_test)"
   ]
  },
  {
   "cell_type": "code",
   "execution_count": 12,
   "metadata": {},
   "outputs": [],
   "source": [
    "# Decode the predicted labels\n",
    "predicted_labels = label_encoder.inverse_transform(np.argmax(predictions, axis=1))\n"
   ]
  },
  {
   "cell_type": "code",
   "execution_count": 13,
   "metadata": {},
   "outputs": [],
   "source": [
    "# Decode the actual labels\n",
    "actual_labels = label_encoder.inverse_transform(y_test)"
   ]
  },
  {
   "cell_type": "code",
   "execution_count": 14,
   "metadata": {},
   "outputs": [
    {
     "name": "stdout",
     "output_type": "stream",
     "text": [
      "Some Predicted and Actual Results:\n",
      "Predicted: X Actual: X\n",
      "Predicted: R Actual: R\n",
      "Predicted: P Actual: P\n",
      "Predicted: I Actual: I\n",
      "Predicted: I Actual: I\n",
      "Predicted: S Actual: Z\n",
      "Predicted: C Actual: C\n",
      "Predicted: Y Actual: Y\n",
      "Predicted: G Actual: G\n",
      "Predicted: E Actual: X\n"
     ]
    }
   ],
   "source": [
    "# Print some predicted and actual results\n",
    "print(\"Some Predicted and Actual Results:\")\n",
    "for i in range(10):\n",
    "    print(\"Predicted:\", predicted_labels[i], \"Actual:\", actual_labels[i])"
   ]
  }
 ],
 "metadata": {
  "kernelspec": {
   "display_name": "Python 3",
   "language": "python",
   "name": "python3"
  },
  "language_info": {
   "codemirror_mode": {
    "name": "ipython",
    "version": 3
   },
   "file_extension": ".py",
   "mimetype": "text/x-python",
   "name": "python",
   "nbconvert_exporter": "python",
   "pygments_lexer": "ipython3",
   "version": "3.12.1"
  }
 },
 "nbformat": 4,
 "nbformat_minor": 2
}
